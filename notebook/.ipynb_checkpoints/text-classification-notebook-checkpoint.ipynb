{
 "cells": [
  {
   "cell_type": "code",
   "execution_count": 93,
   "id": "22056725-ab67-412b-a414-ca198da0f7d3",
   "metadata": {},
   "outputs": [
    {
     "name": "stdout",
     "output_type": "stream",
     "text": [
      "Collecting transformers\n",
      "  Downloading transformers-4.30.2-py3-none-any.whl (7.2 MB)\n",
      "\u001b[2K     \u001b[90m━━━━━━━━━━━━━━━━━━━━━━━━━━━━━━━━━━━━━━━━\u001b[0m \u001b[32m7.2/7.2 MB\u001b[0m \u001b[31m32.8 MB/s\u001b[0m eta \u001b[36m0:00:00\u001b[0m00:01\u001b[0m00:01\u001b[0m\n",
      "\u001b[?25hRequirement already satisfied: numpy>=1.17 in /opt/conda/lib/python3.7/site-packages (from transformers) (1.21.6)\n",
      "Requirement already satisfied: tqdm>=4.27 in /opt/conda/lib/python3.7/site-packages (from transformers) (4.64.1)\n",
      "Collecting safetensors>=0.3.1\n",
      "  Downloading safetensors-0.3.3-cp37-cp37m-manylinux_2_17_x86_64.manylinux2014_x86_64.whl (1.3 MB)\n",
      "\u001b[2K     \u001b[90m━━━━━━━━━━━━━━━━━━━━━━━━━━━━━━━━━━━━━━━━\u001b[0m \u001b[32m1.3/1.3 MB\u001b[0m \u001b[31m64.3 MB/s\u001b[0m eta \u001b[36m0:00:00\u001b[0m\n",
      "\u001b[?25hCollecting tokenizers!=0.11.3,<0.14,>=0.11.1\n",
      "  Downloading tokenizers-0.13.3-cp37-cp37m-manylinux_2_17_x86_64.manylinux2014_x86_64.whl (7.8 MB)\n",
      "\u001b[2K     \u001b[90m━━━━━━━━━━━━━━━━━━━━━━━━━━━━━━━━━━━━━━━━\u001b[0m \u001b[32m7.8/7.8 MB\u001b[0m \u001b[31m93.1 MB/s\u001b[0m eta \u001b[36m0:00:00\u001b[0m:00:01\u001b[0m00:01\u001b[0m\n",
      "\u001b[?25hCollecting huggingface-hub<1.0,>=0.14.1\n",
      "  Downloading huggingface_hub-0.16.4-py3-none-any.whl (268 kB)\n",
      "\u001b[2K     \u001b[90m━━━━━━━━━━━━━━━━━━━━━━━━━━━━━━━━━━━━━━\u001b[0m \u001b[32m268.8/268.8 kB\u001b[0m \u001b[31m42.9 MB/s\u001b[0m eta \u001b[36m0:00:00\u001b[0m\n",
      "\u001b[?25hCollecting regex!=2019.12.17\n",
      "  Downloading regex-2023.10.3-cp37-cp37m-manylinux_2_17_x86_64.manylinux2014_x86_64.whl (761 kB)\n",
      "\u001b[2K     \u001b[90m━━━━━━━━━━━━━━━━━━━━━━━━━━━━━━━━━━━━━━\u001b[0m \u001b[32m761.6/761.6 kB\u001b[0m \u001b[31m62.7 MB/s\u001b[0m eta \u001b[36m0:00:00\u001b[0m\n",
      "\u001b[?25hRequirement already satisfied: requests in /opt/conda/lib/python3.7/site-packages (from transformers) (2.28.2)\n",
      "Requirement already satisfied: packaging>=20.0 in /opt/conda/lib/python3.7/site-packages (from transformers) (23.0)\n",
      "Requirement already satisfied: pyyaml>=5.1 in /opt/conda/lib/python3.7/site-packages (from transformers) (6.0)\n",
      "Requirement already satisfied: importlib-metadata in /opt/conda/lib/python3.7/site-packages (from transformers) (6.0.0)\n",
      "Requirement already satisfied: filelock in /opt/conda/lib/python3.7/site-packages (from transformers) (3.9.0)\n",
      "Requirement already satisfied: fsspec in /opt/conda/lib/python3.7/site-packages (from huggingface-hub<1.0,>=0.14.1->transformers) (2023.1.0)\n",
      "Requirement already satisfied: typing-extensions>=3.7.4.3 in /opt/conda/lib/python3.7/site-packages (from huggingface-hub<1.0,>=0.14.1->transformers) (4.5.0)\n",
      "Requirement already satisfied: zipp>=0.5 in /opt/conda/lib/python3.7/site-packages (from importlib-metadata->transformers) (3.15.0)\n",
      "Requirement already satisfied: charset-normalizer<4,>=2 in /opt/conda/lib/python3.7/site-packages (from requests->transformers) (2.1.1)\n",
      "Requirement already satisfied: idna<4,>=2.5 in /opt/conda/lib/python3.7/site-packages (from requests->transformers) (3.4)\n",
      "Requirement already satisfied: urllib3<1.27,>=1.21.1 in /opt/conda/lib/python3.7/site-packages (from requests->transformers) (1.26.14)\n",
      "Requirement already satisfied: certifi>=2017.4.17 in /opt/conda/lib/python3.7/site-packages (from requests->transformers) (2022.12.7)\n",
      "Installing collected packages: tokenizers, safetensors, regex, huggingface-hub, transformers\n",
      "Successfully installed huggingface-hub-0.16.4 regex-2023.10.3 safetensors-0.3.3 tokenizers-0.13.3 transformers-4.30.2\n"
     ]
    }
   ],
   "source": [
    "! pip install transformers"
   ]
  },
  {
   "cell_type": "code",
   "execution_count": 94,
   "id": "59540638-876d-483e-b912-256683b6bf5f",
   "metadata": {},
   "outputs": [
    {
     "name": "stdout",
     "output_type": "stream",
     "text": [
      "Collecting livelossplot\n",
      "  Downloading livelossplot-0.5.5-py3-none-any.whl (22 kB)\n",
      "Collecting bokeh\n",
      "  Downloading bokeh-2.4.3-py3-none-any.whl (18.5 MB)\n",
      "\u001b[2K     \u001b[90m━━━━━━━━━━━━━━━━━━━━━━━━━━━━━━━━━━━━━━━━\u001b[0m \u001b[32m18.5/18.5 MB\u001b[0m \u001b[31m62.4 MB/s\u001b[0m eta \u001b[36m0:00:00\u001b[0m00:01\u001b[0m00:01\u001b[0m\n",
      "\u001b[?25hRequirement already satisfied: numpy<1.22 in /opt/conda/lib/python3.7/site-packages (from livelossplot) (1.21.6)\n",
      "Requirement already satisfied: ipython==7.* in /opt/conda/lib/python3.7/site-packages (from livelossplot) (7.34.0)\n",
      "Requirement already satisfied: matplotlib in /opt/conda/lib/python3.7/site-packages (from livelossplot) (3.5.3)\n",
      "Requirement already satisfied: pexpect>4.3 in /opt/conda/lib/python3.7/site-packages (from ipython==7.*->livelossplot) (4.8.0)\n",
      "Requirement already satisfied: setuptools>=18.5 in /opt/conda/lib/python3.7/site-packages (from ipython==7.*->livelossplot) (67.6.0)\n",
      "Requirement already satisfied: pickleshare in /opt/conda/lib/python3.7/site-packages (from ipython==7.*->livelossplot) (0.7.5)\n",
      "Requirement already satisfied: jedi>=0.16 in /opt/conda/lib/python3.7/site-packages (from ipython==7.*->livelossplot) (0.18.2)\n",
      "Requirement already satisfied: traitlets>=4.2 in /opt/conda/lib/python3.7/site-packages (from ipython==7.*->livelossplot) (5.9.0)\n",
      "Requirement already satisfied: decorator in /opt/conda/lib/python3.7/site-packages (from ipython==7.*->livelossplot) (5.1.1)\n",
      "Requirement already satisfied: pygments in /opt/conda/lib/python3.7/site-packages (from ipython==7.*->livelossplot) (2.14.0)\n",
      "Requirement already satisfied: backcall in /opt/conda/lib/python3.7/site-packages (from ipython==7.*->livelossplot) (0.2.0)\n",
      "Requirement already satisfied: prompt-toolkit!=3.0.0,!=3.0.1,<3.1.0,>=2.0.0 in /opt/conda/lib/python3.7/site-packages (from ipython==7.*->livelossplot) (3.0.38)\n",
      "Requirement already satisfied: matplotlib-inline in /opt/conda/lib/python3.7/site-packages (from ipython==7.*->livelossplot) (0.1.6)\n",
      "Requirement already satisfied: PyYAML>=3.10 in /opt/conda/lib/python3.7/site-packages (from bokeh->livelossplot) (6.0)\n",
      "Requirement already satisfied: typing-extensions>=3.10.0 in /opt/conda/lib/python3.7/site-packages (from bokeh->livelossplot) (4.5.0)\n",
      "Requirement already satisfied: Jinja2>=2.9 in /opt/conda/lib/python3.7/site-packages (from bokeh->livelossplot) (3.1.2)\n",
      "Requirement already satisfied: tornado>=5.1 in /opt/conda/lib/python3.7/site-packages (from bokeh->livelossplot) (6.2)\n",
      "Requirement already satisfied: pillow>=7.1.0 in /opt/conda/lib/python3.7/site-packages (from bokeh->livelossplot) (9.4.0)\n",
      "Requirement already satisfied: packaging>=16.8 in /opt/conda/lib/python3.7/site-packages (from bokeh->livelossplot) (23.0)\n",
      "Requirement already satisfied: fonttools>=4.22.0 in /opt/conda/lib/python3.7/site-packages (from matplotlib->livelossplot) (4.38.0)\n",
      "Requirement already satisfied: cycler>=0.10 in /opt/conda/lib/python3.7/site-packages (from matplotlib->livelossplot) (0.11.0)\n",
      "Requirement already satisfied: kiwisolver>=1.0.1 in /opt/conda/lib/python3.7/site-packages (from matplotlib->livelossplot) (1.4.4)\n",
      "Requirement already satisfied: python-dateutil>=2.7 in /opt/conda/lib/python3.7/site-packages (from matplotlib->livelossplot) (2.8.2)\n",
      "Requirement already satisfied: pyparsing>=2.2.1 in /opt/conda/lib/python3.7/site-packages (from matplotlib->livelossplot) (3.0.9)\n",
      "Requirement already satisfied: parso<0.9.0,>=0.8.0 in /opt/conda/lib/python3.7/site-packages (from jedi>=0.16->ipython==7.*->livelossplot) (0.8.3)\n",
      "Requirement already satisfied: MarkupSafe>=2.0 in /opt/conda/lib/python3.7/site-packages (from Jinja2>=2.9->bokeh->livelossplot) (2.1.2)\n",
      "Requirement already satisfied: ptyprocess>=0.5 in /opt/conda/lib/python3.7/site-packages (from pexpect>4.3->ipython==7.*->livelossplot) (0.7.0)\n",
      "Requirement already satisfied: wcwidth in /opt/conda/lib/python3.7/site-packages (from prompt-toolkit!=3.0.0,!=3.0.1,<3.1.0,>=2.0.0->ipython==7.*->livelossplot) (0.2.6)\n",
      "Requirement already satisfied: six>=1.5 in /opt/conda/lib/python3.7/site-packages (from python-dateutil>=2.7->matplotlib->livelossplot) (1.16.0)\n",
      "Installing collected packages: bokeh, livelossplot\n",
      "Successfully installed bokeh-2.4.3 livelossplot-0.5.5\n"
     ]
    }
   ],
   "source": [
    "! pip install livelossplot"
   ]
  },
  {
   "cell_type": "code",
   "execution_count": 1,
   "id": "fa8e9678-293c-4ed0-b45e-2a91bea080ed",
   "metadata": {},
   "outputs": [],
   "source": [
    "#standard librares\n",
    "import re\n",
    "import torch\n",
    "import pickle\n",
    "import numpy as np\n",
    "import pandas as pd\n",
    "import random\n",
    "from tqdm import tqdm\n",
    "import sys\n",
    "\n",
    "#appending src directory\n",
    "sys.path.append('../src')\n",
    "\n",
    "#plotting libraries\n",
    "from livelossplot import PlotLosses\n",
    "from livelossplot.outputs import MatplotlibPlot\n",
    "\n",
    "#bigquery\n",
    "from google.cloud import bigquery\n",
    "\n",
    "#pytorch libraries\n",
    "import torch\n",
    "import torch.nn as nn\n",
    "import torch.optim\n",
    "\n",
    "#transformers libraries\n",
    "from transformers import BertModel\n",
    "from transformers import BertTokenizer\n",
    "\n",
    "#scikit-learn libraries\n",
    "from sklearn.metrics import accuracy_score\n",
    "from sklearn.preprocessing import LabelEncoder\n",
    "from sklearn.model_selection import train_test_split\n",
    "\n",
    "#helper functions\n",
    "import helper\n",
    "\n",
    "random.seed(42)"
   ]
  },
  {
   "cell_type": "code",
   "execution_count": 2,
   "id": "c1974d69-96c9-42de-8587-cd8ffd4ba2c4",
   "metadata": {},
   "outputs": [],
   "source": [
    "bq_uri = 'bq://optimum-pier-401103.bert_chat_dataset.bert-text-use'\n",
    "df = helper.read_data_from_bq(bq_uri)"
   ]
  },
  {
   "cell_type": "code",
   "execution_count": 3,
   "id": "135fad51-8db0-40c0-a592-b3c409e9e1c1",
   "metadata": {},
   "outputs": [
    {
     "name": "stderr",
     "output_type": "stream",
     "text": [
      "/opt/conda/lib/python3.7/site-packages/pandas/core/indexing.py:1951: SettingWithCopyWarning: \n",
      "A value is trying to be set on a copy of a slice from a DataFrame.\n",
      "Try using .loc[row_indexer,col_indexer] = value instead\n",
      "\n",
      "See the caveats in the documentation: https://pandas.pydata.org/pandas-docs/stable/user_guide/indexing.html#returning-a-view-versus-a-copy\n",
      "  self.obj[selected_item_labels] = value\n",
      "../src/helper.py:61: SettingWithCopyWarning: \n",
      "A value is trying to be set on a copy of a slice from a DataFrame.\n",
      "Try using .loc[row_indexer,col_indexer] = value instead\n",
      "\n",
      "See the caveats in the documentation: https://pandas.pydata.org/pandas-docs/stable/user_guide/indexing.html#returning-a-view-versus-a-copy\n",
      "  df[text_col] = df[text_col].str.lower()\n",
      "../src/helper.py:65: SettingWithCopyWarning: \n",
      "A value is trying to be set on a copy of a slice from a DataFrame.\n",
      "Try using .loc[row_indexer,col_indexer] = value instead\n",
      "\n",
      "See the caveats in the documentation: https://pandas.pydata.org/pandas-docs/stable/user_guide/indexing.html#returning-a-view-versus-a-copy\n",
      "  df[text_col] = df[text_col].apply(lambda text: replace_pattern(pattern, text))\n"
     ]
    }
   ],
   "source": [
    "target_col = 'product'\n",
    "text_col = 'consumer_complaint_narrative'\n",
    "\n",
    "df = helper.preprocess_data(df, text_col, target_col)"
   ]
  },
  {
   "cell_type": "code",
   "execution_count": 6,
   "id": "6f29bdcd-84a6-4aaa-9a3c-c906b74c5833",
   "metadata": {},
   "outputs": [],
   "source": [
    "#sample size for each label\n",
    "sample_size = 0.2\n",
    "\n",
    "#function to sample each group\n",
    "def sample_group(group):\n",
    "    return group.sample(frac=sample_size)\n",
    "\n",
    "#apply stratified sampling to the dataframe for testing the training code\n",
    "df_use = df.groupby(target_col, group_keys=False).apply(sample_group)"
   ]
  },
  {
   "cell_type": "code",
   "execution_count": 7,
   "id": "5f69b053-147c-4e7a-aa8e-e55b03c0a3ac",
   "metadata": {},
   "outputs": [
    {
     "data": {
      "text/html": [
       "<div>\n",
       "<style scoped>\n",
       "    .dataframe tbody tr th:only-of-type {\n",
       "        vertical-align: middle;\n",
       "    }\n",
       "\n",
       "    .dataframe tbody tr th {\n",
       "        vertical-align: top;\n",
       "    }\n",
       "\n",
       "    .dataframe thead th {\n",
       "        text-align: right;\n",
       "    }\n",
       "</style>\n",
       "<table border=\"1\" class=\"dataframe\">\n",
       "  <thead>\n",
       "    <tr style=\"text-align: right;\">\n",
       "      <th></th>\n",
       "      <th>consumer_complaint_narrative</th>\n",
       "      <th>product</th>\n",
       "    </tr>\n",
       "  </thead>\n",
       "  <tbody>\n",
       "    <tr>\n",
       "      <th>517776</th>\n",
       "      <td>in i opened an hsa account with bank of americ...</td>\n",
       "      <td>bank_account</td>\n",
       "    </tr>\n",
       "    <tr>\n",
       "      <th>691381</th>\n",
       "      <td>my american express personal savings account w...</td>\n",
       "      <td>bank_account</td>\n",
       "    </tr>\n",
       "    <tr>\n",
       "      <th>556847</th>\n",
       "      <td>im on government and receives a month for the ...</td>\n",
       "      <td>bank_account</td>\n",
       "    </tr>\n",
       "    <tr>\n",
       "      <th>116583</th>\n",
       "      <td>to be paid by money to be transferred to an e...</td>\n",
       "      <td>bank_account</td>\n",
       "    </tr>\n",
       "    <tr>\n",
       "      <th>716506</th>\n",
       "      <td>i made my deposit into citibank atm like i do...</td>\n",
       "      <td>bank_account</td>\n",
       "    </tr>\n",
       "  </tbody>\n",
       "</table>\n",
       "</div>"
      ],
      "text/plain": [
       "                             consumer_complaint_narrative       product\n",
       "517776  in i opened an hsa account with bank of americ...  bank_account\n",
       "691381  my american express personal savings account w...  bank_account\n",
       "556847  im on government and receives a month for the ...  bank_account\n",
       "116583   to be paid by money to be transferred to an e...  bank_account\n",
       "716506   i made my deposit into citibank atm like i do...  bank_account"
      ]
     },
     "execution_count": 7,
     "metadata": {},
     "output_type": "execute_result"
    }
   ],
   "source": [
    "df_use.head()"
   ]
  },
  {
   "cell_type": "code",
   "execution_count": 8,
   "id": "8a2dd6bd-f28d-4e8b-b89f-f685b74d3ff2",
   "metadata": {},
   "outputs": [
    {
     "data": {
      "text/plain": [
       "(161868, 2)"
      ]
     },
     "execution_count": 8,
     "metadata": {},
     "output_type": "execute_result"
    }
   ],
   "source": [
    "df_use.shape"
   ]
  },
  {
   "cell_type": "code",
   "execution_count": 10,
   "id": "585bc4f0-951e-498f-bf2f-0d0fa2fa9cf8",
   "metadata": {},
   "outputs": [
    {
     "data": {
      "text/plain": [
       "credit_reporting       69611\n",
       "debt_collection        31476\n",
       "mortgage               16892\n",
       "credit_prepaid_card    16208\n",
       "personal_loan          11255\n",
       "bank_account           10455\n",
       "money_transfer          4019\n",
       "consumer_loan           1894\n",
       "others                    58\n",
       "Name: product, dtype: int64"
      ]
     },
     "execution_count": 10,
     "metadata": {},
     "output_type": "execute_result"
    }
   ],
   "source": [
    "df_use['product'].value_counts()"
   ]
  },
  {
   "cell_type": "code",
   "execution_count": 11,
   "id": "651eef5b-f42a-49ba-95bf-06a2715d901e",
   "metadata": {},
   "outputs": [
    {
     "data": {
      "application/vnd.jupyter.widget-view+json": {
       "model_id": "2165510473a04889b49b4b695da6682a",
       "version_major": 2,
       "version_minor": 0
      },
      "text/plain": [
       "Downloading (…)solve/main/vocab.txt:   0%|          | 0.00/232k [00:00<?, ?B/s]"
      ]
     },
     "metadata": {},
     "output_type": "display_data"
    },
    {
     "data": {
      "application/vnd.jupyter.widget-view+json": {
       "model_id": "d6ce9198d0d64c699ca0422f23db69d4",
       "version_major": 2,
       "version_minor": 0
      },
      "text/plain": [
       "Downloading (…)okenizer_config.json:   0%|          | 0.00/28.0 [00:00<?, ?B/s]"
      ]
     },
     "metadata": {},
     "output_type": "display_data"
    },
    {
     "data": {
      "application/vnd.jupyter.widget-view+json": {
       "model_id": "18d9ba9f89664b46905738192e9d6972",
       "version_major": 2,
       "version_minor": 0
      },
      "text/plain": [
       "Downloading (…)lve/main/config.json:   0%|          | 0.00/570 [00:00<?, ?B/s]"
      ]
     },
     "metadata": {},
     "output_type": "display_data"
    }
   ],
   "source": [
    "#loading pre-trained tokenizer\n",
    "tokenizer = BertTokenizer.from_pretrained(\"bert-base-uncased\")"
   ]
  },
  {
   "cell_type": "code",
   "execution_count": 12,
   "id": "2146a9ab-3ece-420b-b0ab-94465ff9eddc",
   "metadata": {},
   "outputs": [],
   "source": [
    "#tokenizing the text column\n",
    "seq_len = 20\n",
    "tokens = [tokenizer(i, padding=\"max_length\", max_length=seq_len, \n",
    "                    truncation=True, return_tensors=\"pt\") \n",
    "         for i in df[text_col].tolist()]"
   ]
  },
  {
   "cell_type": "code",
   "execution_count": 13,
   "id": "7c65daf1-627b-4aae-879b-e3990a38a4ea",
   "metadata": {},
   "outputs": [],
   "source": [
    "tokens_path = \"output/tokens.pkl\"\n",
    "labels_path = \"output/labels.pkl\"\n",
    "model_path = \"output/bert_pre_trained.pth\"\n",
    "label_encoder_path = \"output/label_encoder.pkl\""
   ]
  },
  {
   "cell_type": "code",
   "execution_count": 14,
   "id": "c60df125-ee9b-4540-9858-d335ae690cd9",
   "metadata": {},
   "outputs": [],
   "source": [
    "from google.cloud import storage\n",
    "import pickle"
   ]
  },
  {
   "cell_type": "code",
   "execution_count": null,
   "id": "4cbc4e3c-bc87-45ec-8653-c90a7f3941b0",
   "metadata": {},
   "outputs": [],
   "source": [
    "client = storage.Client()"
   ]
  },
  {
   "cell_type": "code",
   "execution_count": null,
   "id": "6a7dec78-651c-4a9d-948e-698e7f48e269",
   "metadata": {},
   "outputs": [],
   "source": [
    "project_id = 'optimum-pier-401103'\n",
    "bucket_name = 'text-classification-bucket'"
   ]
  },
  {
   "cell_type": "code",
   "execution_count": 27,
   "id": "8050b357-53e9-45a1-b4d6-7eca77411be8",
   "metadata": {},
   "outputs": [],
   "source": [
    "def save_to_gcs(project_id: str, bucket_name: str, blob_path: str, variable):\n",
    "    \"\"\"\n",
    "    A function to save a variable to GCS\n",
    "    \n",
    "    INPUT\n",
    "    :project_id: string, project id for current project\n",
    "    :bucket_name: string, GCS bucket name\n",
    "    :blob_path: string, path to file that will be saved\n",
    "    :variable: the variable to be saved\n",
    "    \"\"\"\n",
    "    client = storage.Client(project=project_id)\n",
    "    bucket = client.bucket(bucket_name)\n",
    "    blob = bucket.blob(blob_path)\n",
    "    blob_bytes = pickle.dumps(variable)\n",
    "    blob.upload_from_string(blob_bytes)\n",
    "    print(f'Variable uploaded to gs://{bucket_name}/{tokens_path}')"
   ]
  },
  {
   "cell_type": "code",
   "execution_count": 29,
   "id": "14a7983c-a717-4a59-8fff-d926c447b3a4",
   "metadata": {},
   "outputs": [],
   "source": [
    "save_to_gcs(project_id, bucket_name, tokens_path, tokens)"
   ]
  },
  {
   "cell_type": "code",
   "execution_count": null,
   "id": "f07fb093-b934-44cc-a281-0e98d4aae72b",
   "metadata": {},
   "outputs": [],
   "source": [
    "def load_from_gcs(project_id: str, bucket_name: str, blob_path: str):\n",
    "    \"\"\"\n",
    "    A function to load pickle file from GCS\n",
    "    \n",
    "    INPUT\n",
    "    :project_id: string, project id for current project\n",
    "    :bucket_name: string, GCS bucket name\n",
    "    :blob_path: string, path to file that will be loaded\n",
    "    \n",
    "    OUTPUT\n",
    "    :loaded_var: loaded pickle file saved in a variable\n",
    "    \"\"\"\n",
    "    client = storage.Client(project=project_id)\n",
    "    bucket = client.get_bucket(bucket_name)\n",
    "    blob = bucket.blob(blob_path)\n",
    "    pickle_bytes = blob.download_as_bytes()\n",
    "    loaded_var = pickle.loads(pickle_bytes)\n",
    "    return loaded_var"
   ]
  },
  {
   "cell_type": "code",
   "execution_count": null,
   "id": "d1446080-90a4-47fd-8c5a-b8cc04760d79",
   "metadata": {},
   "outputs": [],
   "source": [
    "client = storage.Client(project=project_id)"
   ]
  },
  {
   "cell_type": "code",
   "execution_count": null,
   "id": "9875a014-5899-45b1-8dc5-73daa0c7c28b",
   "metadata": {},
   "outputs": [],
   "source": [
    "bucket = client.get_bucket(bucket_name)"
   ]
  },
  {
   "cell_type": "code",
   "execution_count": 37,
   "id": "7a9c9937-bb3f-4018-970e-919bf5294993",
   "metadata": {},
   "outputs": [],
   "source": [
    "blob = bucket.blob(tokens_path)"
   ]
  },
  {
   "cell_type": "code",
   "execution_count": 39,
   "id": "3eac2c90-4529-48cb-86c2-962a91ee0790",
   "metadata": {},
   "outputs": [],
   "source": [
    "pickle_bytes = blob.download_as_bytes()"
   ]
  },
  {
   "cell_type": "code",
   "execution_count": 40,
   "id": "bff199dd-798f-4d78-80cd-d53cbbb463ca",
   "metadata": {},
   "outputs": [],
   "source": [
    "loaded_tokens = pickle.loads(pickle_bytes)"
   ]
  }
 ],
 "metadata": {
  "environment": {
   "kernel": "python3",
   "name": "pytorch-gpu.1-13.m104",
   "type": "gcloud",
   "uri": "gcr.io/deeplearning-platform-release/pytorch-gpu.1-13:m104"
  },
  "kernelspec": {
   "display_name": "Python 3 (ipykernel)",
   "language": "python",
   "name": "python3"
  },
  "language_info": {
   "codemirror_mode": {
    "name": "ipython",
    "version": 3
   },
   "file_extension": ".py",
   "mimetype": "text/x-python",
   "name": "python",
   "nbconvert_exporter": "python",
   "pygments_lexer": "ipython3",
   "version": "3.7.12"
  }
 },
 "nbformat": 4,
 "nbformat_minor": 5
}
