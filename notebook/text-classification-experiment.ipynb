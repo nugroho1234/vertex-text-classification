{
 "cells": [
  {
   "cell_type": "markdown",
   "id": "7982b3d6-9be2-4b09-ba93-42bfa5337c5e",
   "metadata": {},
   "source": [
    "# Text Classification using BERT Experiment\n",
    "In this notebook, I will create a text classification using BERT and PyTorch. This is an experimental notebook to test whether all the functions I created are working fine. In doing so, I need to make sure that the training time is as fast as possible. If the training code works, I will use it to create a Vertex AI training job so that the model trains on the cloud with much larger dataset.\n",
    "\n",
    "The training steps I'm going to use are:\n",
    "1. Read data from BigQuery\n",
    "2. Preprocess the data\n",
    "3. Sample the data based on the labels\n",
    "4. Training and validating for 10 epochs\n",
    "5. Testing the model using the test data and get the accuracy score\n",
    "\n",
    "The libraries I used in this project are:\n",
    "1. PyTorch 2.0 with GPU\n",
    "2. Transformers\n",
    "3. Scikit-learn\n",
    "4. Livelossplot\n",
    "\n",
    "## Installing additional libraries\n",
    "Since I created the notebook in the PyTorch 2.0 environment from Vertex AI, I will install the additional libraries I need first, which are transformers and livelossplot. Afterwards, I will restart the kernel."
   ]
  },
  {
   "cell_type": "code",
   "execution_count": 3,
   "id": "22056725-ab67-412b-a414-ca198da0f7d3",
   "metadata": {},
   "outputs": [
    {
     "name": "stdout",
     "output_type": "stream",
     "text": [
      "Collecting transformers\n",
      "  Obtaining dependency information for transformers from https://files.pythonhosted.org/packages/1a/d1/3bba59606141ae808017f6fde91453882f931957f125009417b87a281067/transformers-4.34.0-py3-none-any.whl.metadata\n",
      "  Downloading transformers-4.34.0-py3-none-any.whl.metadata (121 kB)\n",
      "\u001b[2K     \u001b[90m━━━━━━━━━━━━━━━━━━━━━━━━━━━━━━━━━━━━━━━\u001b[0m \u001b[32m121.5/121.5 kB\u001b[0m \u001b[31m7.4 MB/s\u001b[0m eta \u001b[36m0:00:00\u001b[0m\n",
      "\u001b[?25hRequirement already satisfied: filelock in /opt/conda/lib/python3.10/site-packages (from transformers) (3.12.4)\n",
      "Collecting huggingface-hub<1.0,>=0.16.4 (from transformers)\n",
      "  Obtaining dependency information for huggingface-hub<1.0,>=0.16.4 from https://files.pythonhosted.org/packages/aa/f3/3fc97336a0e90516901befd4f500f08d691034d387406fdbde85bea827cc/huggingface_hub-0.17.3-py3-none-any.whl.metadata\n",
      "  Downloading huggingface_hub-0.17.3-py3-none-any.whl.metadata (13 kB)\n",
      "Requirement already satisfied: numpy>=1.17 in /opt/conda/lib/python3.10/site-packages (from transformers) (1.23.5)\n",
      "Requirement already satisfied: packaging>=20.0 in /opt/conda/lib/python3.10/site-packages (from transformers) (23.1)\n",
      "Requirement already satisfied: pyyaml>=5.1 in /opt/conda/lib/python3.10/site-packages (from transformers) (6.0.1)\n",
      "Collecting regex!=2019.12.17 (from transformers)\n",
      "  Obtaining dependency information for regex!=2019.12.17 from https://files.pythonhosted.org/packages/8f/3e/4b8b40eb3c80aeaf360f0361d956d129bb3d23b2a3ecbe3a04a8f3bdd6d3/regex-2023.10.3-cp310-cp310-manylinux_2_17_x86_64.manylinux2014_x86_64.whl.metadata\n",
      "  Downloading regex-2023.10.3-cp310-cp310-manylinux_2_17_x86_64.manylinux2014_x86_64.whl.metadata (40 kB)\n",
      "\u001b[2K     \u001b[90m━━━━━━━━━━━━━━━━━━━━━━━━━━━━━━━━━━━━━━━━\u001b[0m \u001b[32m40.9/40.9 kB\u001b[0m \u001b[31m6.4 MB/s\u001b[0m eta \u001b[36m0:00:00\u001b[0m\n",
      "\u001b[?25hRequirement already satisfied: requests in /opt/conda/lib/python3.10/site-packages (from transformers) (2.31.0)\n",
      "Collecting tokenizers<0.15,>=0.14 (from transformers)\n",
      "  Obtaining dependency information for tokenizers<0.15,>=0.14 from https://files.pythonhosted.org/packages/a7/7b/c1f643eb086b6c5c33eef0c3752e37624bd23e4cbc9f1332748f1c6252d1/tokenizers-0.14.1-cp310-cp310-manylinux_2_17_x86_64.manylinux2014_x86_64.whl.metadata\n",
      "  Downloading tokenizers-0.14.1-cp310-cp310-manylinux_2_17_x86_64.manylinux2014_x86_64.whl.metadata (6.7 kB)\n",
      "Collecting safetensors>=0.3.1 (from transformers)\n",
      "  Obtaining dependency information for safetensors>=0.3.1 from https://files.pythonhosted.org/packages/20/4e/878b080dbda92666233ec6f316a53969edcb58eab1aa399a64d0521cf953/safetensors-0.4.0-cp310-cp310-manylinux_2_17_x86_64.manylinux2014_x86_64.whl.metadata\n",
      "  Downloading safetensors-0.4.0-cp310-cp310-manylinux_2_17_x86_64.manylinux2014_x86_64.whl.metadata (3.8 kB)\n",
      "Requirement already satisfied: tqdm>=4.27 in /opt/conda/lib/python3.10/site-packages (from transformers) (4.66.1)\n",
      "Requirement already satisfied: fsspec in /opt/conda/lib/python3.10/site-packages (from huggingface-hub<1.0,>=0.16.4->transformers) (2023.9.2)\n",
      "Requirement already satisfied: typing-extensions>=3.7.4.3 in /opt/conda/lib/python3.10/site-packages (from huggingface-hub<1.0,>=0.16.4->transformers) (4.8.0)\n",
      "Requirement already satisfied: charset-normalizer<4,>=2 in /opt/conda/lib/python3.10/site-packages (from requests->transformers) (3.2.0)\n",
      "Requirement already satisfied: idna<4,>=2.5 in /opt/conda/lib/python3.10/site-packages (from requests->transformers) (3.4)\n",
      "Requirement already satisfied: urllib3<3,>=1.21.1 in /opt/conda/lib/python3.10/site-packages (from requests->transformers) (1.26.16)\n",
      "Requirement already satisfied: certifi>=2017.4.17 in /opt/conda/lib/python3.10/site-packages (from requests->transformers) (2023.7.22)\n",
      "Downloading transformers-4.34.0-py3-none-any.whl (7.7 MB)\n",
      "\u001b[2K   \u001b[90m━━━━━━━━━━━━━━━━━━━━━━━━━━━━━━━━━━━━━━━━\u001b[0m \u001b[32m7.7/7.7 MB\u001b[0m \u001b[31m44.7 MB/s\u001b[0m eta \u001b[36m0:00:00\u001b[0m00:01\u001b[0m00:01\u001b[0m\n",
      "\u001b[?25hDownloading huggingface_hub-0.17.3-py3-none-any.whl (295 kB)\n",
      "\u001b[2K   \u001b[90m━━━━━━━━━━━━━━━━━━━━━━━━━━━━━━━━━━━━━━━━\u001b[0m \u001b[32m295.0/295.0 kB\u001b[0m \u001b[31m45.2 MB/s\u001b[0m eta \u001b[36m0:00:00\u001b[0m\n",
      "\u001b[?25hDownloading regex-2023.10.3-cp310-cp310-manylinux_2_17_x86_64.manylinux2014_x86_64.whl (773 kB)\n",
      "\u001b[2K   \u001b[90m━━━━━━━━━━━━━━━━━━━━━━━━━━━━━━━━━━━━━━━━\u001b[0m \u001b[32m773.9/773.9 kB\u001b[0m \u001b[31m54.1 MB/s\u001b[0m eta \u001b[36m0:00:00\u001b[0m\n",
      "\u001b[?25hDownloading safetensors-0.4.0-cp310-cp310-manylinux_2_17_x86_64.manylinux2014_x86_64.whl (1.3 MB)\n",
      "\u001b[2K   \u001b[90m━━━━━━━━━━━━━━━━━━━━━━━━━━━━━━━━━━━━━━━━\u001b[0m \u001b[32m1.3/1.3 MB\u001b[0m \u001b[31m45.6 MB/s\u001b[0m eta \u001b[36m0:00:00\u001b[0m\n",
      "\u001b[?25hDownloading tokenizers-0.14.1-cp310-cp310-manylinux_2_17_x86_64.manylinux2014_x86_64.whl (3.8 MB)\n",
      "\u001b[2K   \u001b[90m━━━━━━━━━━━━━━━━━━━━━━━━━━━━━━━━━━━━━━━━\u001b[0m \u001b[32m3.8/3.8 MB\u001b[0m \u001b[31m96.0 MB/s\u001b[0m eta \u001b[36m0:00:00\u001b[0m:00:01\u001b[0m\n",
      "\u001b[?25hInstalling collected packages: safetensors, regex, huggingface-hub, tokenizers, transformers\n",
      "Successfully installed huggingface-hub-0.17.3 regex-2023.10.3 safetensors-0.4.0 tokenizers-0.14.1 transformers-4.34.0\n"
     ]
    }
   ],
   "source": [
    "! pip install transformers"
   ]
  },
  {
   "cell_type": "code",
   "execution_count": 4,
   "id": "59540638-876d-483e-b912-256683b6bf5f",
   "metadata": {},
   "outputs": [
    {
     "name": "stdout",
     "output_type": "stream",
     "text": [
      "Collecting livelossplot\n",
      "  Downloading livelossplot-0.5.5-py3-none-any.whl (22 kB)\n",
      "Requirement already satisfied: matplotlib in /opt/conda/lib/python3.10/site-packages (from livelossplot) (3.8.0)\n",
      "Collecting bokeh (from livelossplot)\n",
      "  Obtaining dependency information for bokeh from https://files.pythonhosted.org/packages/84/60/33f23dbb15fcd785d6287bdd6fa8c9d836dacb40e21c14aad41a57a0ec0f/bokeh-3.2.2-py3-none-any.whl.metadata\n",
      "  Downloading bokeh-3.2.2-py3-none-any.whl.metadata (12 kB)\n",
      "Requirement already satisfied: Jinja2>=2.9 in /opt/conda/lib/python3.10/site-packages (from bokeh->livelossplot) (3.1.2)\n",
      "Requirement already satisfied: contourpy>=1 in /opt/conda/lib/python3.10/site-packages (from bokeh->livelossplot) (1.1.1)\n",
      "Requirement already satisfied: numpy>=1.16 in /opt/conda/lib/python3.10/site-packages (from bokeh->livelossplot) (1.23.5)\n",
      "Requirement already satisfied: packaging>=16.8 in /opt/conda/lib/python3.10/site-packages (from bokeh->livelossplot) (23.1)\n",
      "Requirement already satisfied: pandas>=1.2 in /opt/conda/lib/python3.10/site-packages (from bokeh->livelossplot) (2.0.3)\n",
      "Requirement already satisfied: pillow>=7.1.0 in /opt/conda/lib/python3.10/site-packages (from bokeh->livelossplot) (10.0.1)\n",
      "Requirement already satisfied: PyYAML>=3.10 in /opt/conda/lib/python3.10/site-packages (from bokeh->livelossplot) (6.0.1)\n",
      "Requirement already satisfied: tornado>=5.1 in /opt/conda/lib/python3.10/site-packages (from bokeh->livelossplot) (6.3.3)\n",
      "Collecting xyzservices>=2021.09.1 (from bokeh->livelossplot)\n",
      "  Obtaining dependency information for xyzservices>=2021.09.1 from https://files.pythonhosted.org/packages/b1/2b/53fa918ab16998937586f33d14cb00fbf04ead7425c96b665b73b09c7d64/xyzservices-2023.10.0-py3-none-any.whl.metadata\n",
      "  Downloading xyzservices-2023.10.0-py3-none-any.whl.metadata (4.0 kB)\n",
      "Requirement already satisfied: cycler>=0.10 in /opt/conda/lib/python3.10/site-packages (from matplotlib->livelossplot) (0.11.0)\n",
      "Requirement already satisfied: fonttools>=4.22.0 in /opt/conda/lib/python3.10/site-packages (from matplotlib->livelossplot) (4.42.1)\n",
      "Requirement already satisfied: kiwisolver>=1.0.1 in /opt/conda/lib/python3.10/site-packages (from matplotlib->livelossplot) (1.4.5)\n",
      "Requirement already satisfied: pyparsing>=2.3.1 in /opt/conda/lib/python3.10/site-packages (from matplotlib->livelossplot) (3.1.1)\n",
      "Requirement already satisfied: python-dateutil>=2.7 in /opt/conda/lib/python3.10/site-packages (from matplotlib->livelossplot) (2.8.2)\n",
      "Requirement already satisfied: MarkupSafe>=2.0 in /opt/conda/lib/python3.10/site-packages (from Jinja2>=2.9->bokeh->livelossplot) (2.1.3)\n",
      "Requirement already satisfied: pytz>=2020.1 in /opt/conda/lib/python3.10/site-packages (from pandas>=1.2->bokeh->livelossplot) (2023.3.post1)\n",
      "Requirement already satisfied: tzdata>=2022.1 in /opt/conda/lib/python3.10/site-packages (from pandas>=1.2->bokeh->livelossplot) (2023.3)\n",
      "Requirement already satisfied: six>=1.5 in /opt/conda/lib/python3.10/site-packages (from python-dateutil>=2.7->matplotlib->livelossplot) (1.16.0)\n",
      "Downloading bokeh-3.2.2-py3-none-any.whl (7.8 MB)\n",
      "\u001b[2K   \u001b[90m━━━━━━━━━━━━━━━━━━━━━━━━━━━━━━━━━━━━━━━━\u001b[0m \u001b[32m7.8/7.8 MB\u001b[0m \u001b[31m65.0 MB/s\u001b[0m eta \u001b[36m0:00:00\u001b[0m00:01\u001b[0m:00:01\u001b[0m\n",
      "\u001b[?25hDownloading xyzservices-2023.10.0-py3-none-any.whl (57 kB)\n",
      "\u001b[2K   \u001b[90m━━━━━━━━━━━━━━━━━━━━━━━━━━━━━━━━━━━━━━━━\u001b[0m \u001b[32m57.2/57.2 kB\u001b[0m \u001b[31m11.1 MB/s\u001b[0m eta \u001b[36m0:00:00\u001b[0m\n",
      "\u001b[?25hInstalling collected packages: xyzservices, bokeh, livelossplot\n",
      "Successfully installed bokeh-3.2.2 livelossplot-0.5.5 xyzservices-2023.10.0\n"
     ]
    }
   ],
   "source": [
    "! pip install livelossplot"
   ]
  },
  {
   "cell_type": "markdown",
   "id": "6a2ef36b-d13c-4b86-bb0e-d70513783ba2",
   "metadata": {},
   "source": [
    "## Importing libraries\n",
    "Basically, there are a few categories of libraries that I used: The standard, plotting, bigquery and storage, pytorch, transformers, and scikit-learn. The other libraries I used are the functions that I wrote previously to make the code cleaner."
   ]
  },
  {
   "cell_type": "code",
   "execution_count": 1,
   "id": "fa8e9678-293c-4ed0-b45e-2a91bea080ed",
   "metadata": {},
   "outputs": [],
   "source": [
    "#standard librares\n",
    "import re\n",
    "import pickle\n",
    "import numpy as np\n",
    "import pandas as pd\n",
    "import random\n",
    "from tqdm import tqdm\n",
    "import sys\n",
    "\n",
    "#appending src directory\n",
    "sys.path.append('../src')\n",
    "\n",
    "#plotting libraries\n",
    "from livelossplot import PlotLosses\n",
    "from livelossplot.outputs import MatplotlibPlot\n",
    "\n",
    "#bigquery and storage\n",
    "from google.cloud import bigquery, storage\n",
    "\n",
    "#pytorch libraries\n",
    "import torch\n",
    "import torch.nn as nn\n",
    "import torch.optim\n",
    "\n",
    "#transformers libraries\n",
    "from transformers import BertModel\n",
    "from transformers import BertTokenizer\n",
    "\n",
    "#scikit-learn libraries\n",
    "from sklearn.metrics import accuracy_score\n",
    "from sklearn.preprocessing import LabelEncoder\n",
    "from sklearn.model_selection import train_test_split\n",
    "\n",
    "#helper functions\n",
    "import helper\n",
    "import data\n",
    "from models import BertClassifier\n",
    "import optimization\n",
    "import training\n",
    "\n",
    "#initializing random seed\n",
    "random.seed(42)\n",
    "torch.cuda.manual_seed(42)"
   ]
  },
  {
   "cell_type": "markdown",
   "id": "88cfafc7-cdf4-4a27-b4fd-5f6c65fbbe57",
   "metadata": {},
   "source": [
    "## Reading data from BigQuery\n",
    "I used the function read_data_from_bq found in the ../src/helper.py to read data from BigQuery. The data was uploaded via a .csv file."
   ]
  },
  {
   "cell_type": "code",
   "execution_count": 2,
   "id": "c1974d69-96c9-42de-8587-cd8ffd4ba2c4",
   "metadata": {},
   "outputs": [],
   "source": [
    "#initializing the bigquery URI\n",
    "bq_uri = 'bq://optimum-pier-401103.bert_chat_dataset.bert-text-use'\n",
    "\n",
    "#read data from the URI and store it in a pandas dataframe\n",
    "df = helper.read_data_from_bq(bq_uri)"
   ]
  },
  {
   "cell_type": "markdown",
   "id": "1ef58616-bfda-433b-ad88-1eea76087bb8",
   "metadata": {},
   "source": [
    "## Data preprocessing\n",
    "The steps I'm going to take to preprocess the data are:\n",
    "1. Simplify the product column using pre-mapped values\n",
    "2. Convert the rows in the text_col to lowercase\n",
    "3. Deal with consecutive Xs\n",
    "4. Remove special characters apart from apostrophe. This is because as far as I know, BERT's subword tokenization can deal with negatives, which often contains apostrophes.\n",
    "5. Replacing digits. I don't think the digits are necessary in this text classification project.\n",
    "6. Replacing double spaces with the single ones. The double spaces will be the result of substituting certain parts of the text such as digits.\n",
    "\n",
    "In doing so, I will use the preprocess_data function found in the ../src/helper.py file."
   ]
  },
  {
   "cell_type": "code",
   "execution_count": 3,
   "id": "135fad51-8db0-40c0-a592-b3c409e9e1c1",
   "metadata": {},
   "outputs": [
    {
     "name": "stderr",
     "output_type": "stream",
     "text": [
      "/home/jupyter/vertex-text-classification/notebook/../src/helper.py:148: SettingWithCopyWarning: \n",
      "A value is trying to be set on a copy of a slice from a DataFrame.\n",
      "Try using .loc[row_indexer,col_indexer] = value instead\n",
      "\n",
      "See the caveats in the documentation: https://pandas.pydata.org/pandas-docs/stable/user_guide/indexing.html#returning-a-view-versus-a-copy\n",
      "  df.replace({target_col:product_mapping}, inplace=True)\n",
      "/home/jupyter/vertex-text-classification/notebook/../src/helper.py:98: SettingWithCopyWarning: \n",
      "A value is trying to be set on a copy of a slice from a DataFrame.\n",
      "Try using .loc[row_indexer,col_indexer] = value instead\n",
      "\n",
      "See the caveats in the documentation: https://pandas.pydata.org/pandas-docs/stable/user_guide/indexing.html#returning-a-view-versus-a-copy\n",
      "  df[text_col] = df[text_col].str.lower()\n",
      "/home/jupyter/vertex-text-classification/notebook/../src/helper.py:102: SettingWithCopyWarning: \n",
      "A value is trying to be set on a copy of a slice from a DataFrame.\n",
      "Try using .loc[row_indexer,col_indexer] = value instead\n",
      "\n",
      "See the caveats in the documentation: https://pandas.pydata.org/pandas-docs/stable/user_guide/indexing.html#returning-a-view-versus-a-copy\n",
      "  df[text_col] = df[text_col].apply(lambda text: replace_pattern(pattern, text))\n",
      "/home/jupyter/vertex-text-classification/notebook/../src/helper.py:102: SettingWithCopyWarning: \n",
      "A value is trying to be set on a copy of a slice from a DataFrame.\n",
      "Try using .loc[row_indexer,col_indexer] = value instead\n",
      "\n",
      "See the caveats in the documentation: https://pandas.pydata.org/pandas-docs/stable/user_guide/indexing.html#returning-a-view-versus-a-copy\n",
      "  df[text_col] = df[text_col].apply(lambda text: replace_pattern(pattern, text))\n",
      "/home/jupyter/vertex-text-classification/notebook/../src/helper.py:102: SettingWithCopyWarning: \n",
      "A value is trying to be set on a copy of a slice from a DataFrame.\n",
      "Try using .loc[row_indexer,col_indexer] = value instead\n",
      "\n",
      "See the caveats in the documentation: https://pandas.pydata.org/pandas-docs/stable/user_guide/indexing.html#returning-a-view-versus-a-copy\n",
      "  df[text_col] = df[text_col].apply(lambda text: replace_pattern(pattern, text))\n"
     ]
    }
   ],
   "source": [
    "target_col = 'product'\n",
    "text_col = 'consumer_complaint_narrative'\n",
    "\n",
    "df = helper.preprocess_data(df, text_col, target_col)"
   ]
  },
  {
   "cell_type": "markdown",
   "id": "da71a7fa-a465-4a59-ae18-5bdff318619a",
   "metadata": {},
   "source": [
    "## Sampling\n",
    "Next, I will create a sample with the size of 20% from the dataframe. This is to make sure that the training phase runs faster. In the next phase which is creating Vertex AI training job, I will not use sampling so that the model will train on 100% of the data."
   ]
  },
  {
   "cell_type": "code",
   "execution_count": 4,
   "id": "6f29bdcd-84a6-4aaa-9a3c-c906b74c5833",
   "metadata": {},
   "outputs": [],
   "source": [
    "#sampling for faster trial training code\n",
    "sample_size = 0.2\n",
    "\n",
    "#function to sample each group\n",
    "def sample_group(group):\n",
    "    return group.sample(frac=sample_size)\n",
    "\n",
    "#apply stratified sampling to the dataframe for testing the training code\n",
    "df_use = df.groupby(target_col, group_keys=False).apply(sample_group)"
   ]
  },
  {
   "cell_type": "code",
   "execution_count": 5,
   "id": "5f69b053-147c-4e7a-aa8e-e55b03c0a3ac",
   "metadata": {},
   "outputs": [
    {
     "data": {
      "text/html": [
       "<div>\n",
       "<style scoped>\n",
       "    .dataframe tbody tr th:only-of-type {\n",
       "        vertical-align: middle;\n",
       "    }\n",
       "\n",
       "    .dataframe tbody tr th {\n",
       "        vertical-align: top;\n",
       "    }\n",
       "\n",
       "    .dataframe thead th {\n",
       "        text-align: right;\n",
       "    }\n",
       "</style>\n",
       "<table border=\"1\" class=\"dataframe\">\n",
       "  <thead>\n",
       "    <tr style=\"text-align: right;\">\n",
       "      <th></th>\n",
       "      <th>consumer_complaint_narrative</th>\n",
       "      <th>product</th>\n",
       "    </tr>\n",
       "  </thead>\n",
       "  <tbody>\n",
       "    <tr>\n",
       "      <th>305631</th>\n",
       "      <td>i called last month to pnc bank to make sure t...</td>\n",
       "      <td>bank_account</td>\n",
       "    </tr>\n",
       "    <tr>\n",
       "      <th>342422</th>\n",
       "      <td>i already filed a complaint with ftc and they ...</td>\n",
       "      <td>bank_account</td>\n",
       "    </tr>\n",
       "    <tr>\n",
       "      <th>129739</th>\n",
       "      <td>on my account was closed on and i received a d...</td>\n",
       "      <td>bank_account</td>\n",
       "    </tr>\n",
       "    <tr>\n",
       "      <th>672544</th>\n",
       "      <td>i opened a checking account with chase in unde...</td>\n",
       "      <td>bank_account</td>\n",
       "    </tr>\n",
       "    <tr>\n",
       "      <th>771047</th>\n",
       "      <td>i got an email from chase saying that my numbe...</td>\n",
       "      <td>bank_account</td>\n",
       "    </tr>\n",
       "  </tbody>\n",
       "</table>\n",
       "</div>"
      ],
      "text/plain": [
       "                             consumer_complaint_narrative       product\n",
       "305631  i called last month to pnc bank to make sure t...  bank_account\n",
       "342422  i already filed a complaint with ftc and they ...  bank_account\n",
       "129739  on my account was closed on and i received a d...  bank_account\n",
       "672544  i opened a checking account with chase in unde...  bank_account\n",
       "771047  i got an email from chase saying that my numbe...  bank_account"
      ]
     },
     "execution_count": 5,
     "metadata": {},
     "output_type": "execute_result"
    }
   ],
   "source": [
    "df_use.head()"
   ]
  },
  {
   "cell_type": "code",
   "execution_count": 6,
   "id": "8a2dd6bd-f28d-4e8b-b89f-f685b74d3ff2",
   "metadata": {},
   "outputs": [
    {
     "data": {
      "text/plain": [
       "(161868, 2)"
      ]
     },
     "execution_count": 6,
     "metadata": {},
     "output_type": "execute_result"
    }
   ],
   "source": [
    "df_use.shape"
   ]
  },
  {
   "cell_type": "code",
   "execution_count": 7,
   "id": "585bc4f0-951e-498f-bf2f-0d0fa2fa9cf8",
   "metadata": {},
   "outputs": [
    {
     "data": {
      "text/plain": [
       "product\n",
       "credit_reporting       69611\n",
       "debt_collection        31476\n",
       "mortgage               16892\n",
       "credit_prepaid_card    16208\n",
       "personal_loan          11255\n",
       "bank_account           10455\n",
       "money_transfer          4019\n",
       "consumer_loan           1894\n",
       "others                    58\n",
       "Name: count, dtype: int64"
      ]
     },
     "execution_count": 7,
     "metadata": {},
     "output_type": "execute_result"
    }
   ],
   "source": [
    "df_use['product'].value_counts()"
   ]
  },
  {
   "cell_type": "markdown",
   "id": "9c9921c7-18d3-4484-9323-4b090cabdd14",
   "metadata": {},
   "source": [
    "## Training preparation\n",
    "### Tokenizing the data\n",
    "The first step is to tokenize the text column. I will use the pre-trained bert-base-uncased tokenizer since I've converted all the text in the text columns into lowercase. In this project, I don't think that the text is more important if I pay attention to the uppercase and lowercase.\n",
    "\n",
    "I will tokenize the text column with max_length padding, and predetermie the max_length to 20. The return tensors will be PyTorch tensors since I'm going to use PyTorch in this project."
   ]
  },
  {
   "cell_type": "code",
   "execution_count": 8,
   "id": "651eef5b-f42a-49ba-95bf-06a2715d901e",
   "metadata": {},
   "outputs": [],
   "source": [
    "#loading pre-trained tokenizer\n",
    "tokenizer = BertTokenizer.from_pretrained(\"bert-base-uncased\")"
   ]
  },
  {
   "cell_type": "code",
   "execution_count": 9,
   "id": "2146a9ab-3ece-420b-b0ab-94465ff9eddc",
   "metadata": {},
   "outputs": [],
   "source": [
    "#tokenizing the text column\n",
    "seq_len = 20\n",
    "tokens = [tokenizer(i, padding=\"max_length\", max_length=seq_len, \n",
    "                    truncation=True, return_tensors=\"pt\") \n",
    "         for i in df_use[text_col].tolist()]"
   ]
  },
  {
   "cell_type": "code",
   "execution_count": 12,
   "id": "7c65daf1-627b-4aae-879b-e3990a38a4ea",
   "metadata": {},
   "outputs": [],
   "source": [
    "#output paths\n",
    "tokens_path = \"output/tokens.pkl\"\n",
    "tokens_sample_path = \"output/tokens_sample.pkl\"\n",
    "labels_path = \"output/labels.pkl\"\n",
    "labels_sample_path = \"output/labels_sample.pkl\"\n",
    "model_path = \"output/bert_pre_trained.pth\"\n",
    "label_encoder_path = \"output/label_encoder.pkl\"\n",
    "label_encoder_sample_path = \"output/label_encoder_sample.pkl\"\n",
    "\n",
    "#google storage variables\n",
    "project_id = 'optimum-pier-401103'\n",
    "bucket_name = 'text-classification-bucket'"
   ]
  },
  {
   "cell_type": "code",
   "execution_count": 13,
   "id": "14a7983c-a717-4a59-8fff-d926c447b3a4",
   "metadata": {},
   "outputs": [
    {
     "name": "stdout",
     "output_type": "stream",
     "text": [
      "Variable uploaded to gs://text-classification-bucket/output/tokens_sample.pkl\n"
     ]
    }
   ],
   "source": [
    "#save the tokens to GCS\n",
    "helper.save_to_gcs(project_id, bucket_name, tokens_sample_path, tokens)"
   ]
  },
  {
   "cell_type": "markdown",
   "id": "2a8544bb-a04c-4b54-b9c9-455735174cdd",
   "metadata": {},
   "source": [
    "### Encoding the labels\n",
    "The label will be encoded using scikit-learn LabelEncoder so that it's easier to feed into the BERT and PyTorch model."
   ]
  },
  {
   "cell_type": "code",
   "execution_count": 14,
   "id": "b2e492f9-9c68-4267-9600-a1f1e964c464",
   "metadata": {},
   "outputs": [
    {
     "name": "stdout",
     "output_type": "stream",
     "text": [
      "There are 9 classes to predict\n"
     ]
    }
   ],
   "source": [
    "#encoding label\n",
    "label_encoder = LabelEncoder()\n",
    "label_encoder.fit(df_use[target_col])\n",
    "labels = label_encoder.transform(df_use[target_col])\n",
    "\n",
    "num_classes = len(label_encoder.classes_)\n",
    "print(f'There are {num_classes} classes to predict')"
   ]
  },
  {
   "cell_type": "code",
   "execution_count": 15,
   "id": "59127432-7e8c-4cde-82d9-fab2e61661a7",
   "metadata": {},
   "outputs": [
    {
     "name": "stdout",
     "output_type": "stream",
     "text": [
      "Variable uploaded to gs://text-classification-bucket/output/labels_sample.pkl\n",
      "Variable uploaded to gs://text-classification-bucket/output/label_encoder_sample.pkl\n"
     ]
    }
   ],
   "source": [
    "#saving labels and label_encoder\n",
    "helper.save_to_gcs(project_id, bucket_name, labels_sample_path, labels)\n",
    "helper.save_to_gcs(project_id, bucket_name, label_encoder_sample_path, label_encoder)"
   ]
  },
  {
   "cell_type": "markdown",
   "id": "f6bff6b4-5b39-47da-b07a-6a17ee464b4d",
   "metadata": {},
   "source": [
    "### Create PyTorch dataloaders\n",
    "Next, I will create the PyTorch Data Loaders. The steps I'm going to do are:\n",
    "1. Split the data into training, validation, and testing set.\n",
    "2. Initialize the dataset using the TextDataset I created before.\n",
    "3. Create the train, validation, and test data loaders.\n",
    "\n",
    "The steps will be performed using the function create_dataloaders found in the ../src/data.py file."
   ]
  },
  {
   "cell_type": "code",
   "execution_count": 16,
   "id": "436331b6-371b-4342-8f8e-5ccc8cb50ef8",
   "metadata": {},
   "outputs": [
    {
     "name": "stdout",
     "output_type": "stream",
     "text": [
      "There are 97120 training data, and 32374 validation data, and 32374 testing data\n"
     ]
    }
   ],
   "source": [
    "#create dataloaders\n",
    "data_loaders = data.create_dataloaders(tokens, labels,\n",
    "                                       test_size=0.2, \n",
    "                                       valid_size=0.25, \n",
    "                                       random_state=42, \n",
    "                                       batch_size=16, \n",
    "                                       shuffle=False, \n",
    "                                       drop_last=False)"
   ]
  },
  {
   "cell_type": "markdown",
   "id": "bfc5c77b-69af-4ad1-88bb-18cf5c901fd8",
   "metadata": {},
   "source": [
    "## Training the model\n",
    "These are the steps I'm taking for training the model:\n",
    "1. Get the loss function\n",
    "2. Initialize the model\n",
    "3. Determine the learning rate\n",
    "4. Get the optimizer\n",
    "5. Determine the number of epochs\n",
    "6. Use the optimize function to train the model\n",
    "\n",
    "For getting the loss function and optimizer, I will use the function get_loss and get_optimizer found in ../src/optimization.py file.\n",
    "\n",
    "For initializing the model, I will use the BertClassifier class found in ../src/models.py file."
   ]
  },
  {
   "cell_type": "code",
   "execution_count": 18,
   "id": "3b7dce58-4d50-4ba6-b33e-86ab44b344f2",
   "metadata": {},
   "outputs": [
    {
     "data": {
      "application/vnd.jupyter.widget-view+json": {
       "model_id": "c1b8dd36cc034466b64c59d9546c08d6",
       "version_major": 2,
       "version_minor": 0
      },
      "text/plain": [
       "Downloading model.safetensors:   0%|          | 0.00/440M [00:00<?, ?B/s]"
      ]
     },
     "metadata": {},
     "output_type": "display_data"
    }
   ],
   "source": [
    "#get loss function\n",
    "loss = optimization.get_loss()\n",
    "\n",
    "#initialize model\n",
    "dropout = 0.5\n",
    "bert_model = BertClassifier(dropout, num_classes=num_classes, \n",
    "                            bert_model_name='bert-base-uncased')\n",
    "\n",
    "#get optimizer\n",
    "learning_rate = 1e-3\n",
    "optimizer = 'adam'\n",
    "optimizer = optimization.get_optimizer(bert_model, optimizer, learning_rate)\n",
    "num_epochs = 10"
   ]
  },
  {
   "cell_type": "markdown",
   "id": "1c5b5250-9a48-48ab-add7-4f4b9726e64c",
   "metadata": {},
   "source": [
    "Next, I will use the optimize function found in the ../src/training.py file to train and validate the model. I will train it for 10 epochs only. The best weights will be saved in the GCS and will need to be reloaded later."
   ]
  },
  {
   "cell_type": "code",
   "execution_count": 19,
   "id": "2957bbe2-571e-4e0d-9363-d310fd0a0136",
   "metadata": {},
   "outputs": [
    {
     "data": {
      "image/png": "[encoded data removed]",
      "text/plain": [
       "<Figure size 1200x800 with 2 Axes>"
      ]
     },
     "metadata": {},
     "output_type": "display_data"
    }
   ],
   "source": [
    "training.optimize(\n",
    "    data_loaders,\n",
    "    bert_model,\n",
    "    optimizer,\n",
    "    loss,\n",
    "    n_epochs=num_epochs,\n",
    "    model_path=model_path,\n",
    "    interactive_tracking=True\n",
    ")"
   ]
  },
  {
   "cell_type": "markdown",
   "id": "e6ac1c31-3391-4924-bf85-e9e854db95d2",
   "metadata": {},
   "source": [
    "## Testing the model against the test dataset\n",
    "For testing the model, I will do these steps:\n",
    "1. Create a new model using BertClassifier\n",
    "2. Download the best model from GCS to local\n",
    "3. Load the weights to the reloaded model\n",
    "4. Perform one epoch test using the function one_epoch_test function found in the ../src/training.py file."
   ]
  },
  {
   "cell_type": "code",
   "execution_count": 20,
   "id": "7ac194f5-b0a9-41e0-970f-0d570a13f6df",
   "metadata": {},
   "outputs": [],
   "source": [
    "reloaded_model = BertClassifier(dropout, num_classes=num_classes, bert_model_name='bert-base-uncased')"
   ]
  },
  {
   "cell_type": "code",
   "execution_count": 23,
   "id": "0ece7961-382b-4af4-9518-d91edf3dddf5",
   "metadata": {},
   "outputs": [],
   "source": [
    "# Initialize the GCS client\n",
    "client = storage.Client()\n",
    "\n",
    "# Get the bucket\n",
    "bucket = client.bucket(bucket_name)\n",
    "\n",
    "# Define the blob (object) where the model is stored\n",
    "blob = bucket.blob(model_path)\n",
    "\n",
    "# Download the model to a local file\n",
    "local_model_path = \"best_model.pth\"\n",
    "blob.download_to_filename(local_model_path)"
   ]
  },
  {
   "cell_type": "code",
   "execution_count": 24,
   "id": "63f4fb19-3a35-4f2c-bc41-4274ed45b591",
   "metadata": {},
   "outputs": [
    {
     "data": {
      "text/plain": [
       "<All keys matched successfully>"
      ]
     },
     "execution_count": 24,
     "metadata": {},
     "output_type": "execute_result"
    }
   ],
   "source": [
    "reloaded_model.load_state_dict(torch.load(local_model_path))"
   ]
  },
  {
   "cell_type": "code",
   "execution_count": 25,
   "id": "ecbae789-9e33-42a1-894f-93e8fdd884ec",
   "metadata": {},
   "outputs": [
    {
     "name": "stderr",
     "output_type": "stream",
     "text": [
      "Testing: 100%|██████████████████████████████| 2024/2024 [00:43<00:00, 46.25it/s]"
     ]
    },
    {
     "name": "stdout",
     "output_type": "stream",
     "text": [
      "Test Loss: 1.451292\n",
      "\n",
      "\n",
      "Test Accuracy: 48.36% (15656.0/32374.0)\n"
     ]
    },
    {
     "name": "stderr",
     "output_type": "stream",
     "text": [
      "\n"
     ]
    }
   ],
   "source": [
    "test_loss = training.one_epoch_test(data_loaders['test'], reloaded_model, loss)"
   ]
  },
  {
   "cell_type": "markdown",
   "id": "8f89ff94-2e07-45dc-9e85-73a9cdf0df42",
   "metadata": {},
   "source": [
    "The model doesn't perform that well, but it's because based on the training graphs, the training and validation loss is still decreasing, and the model hasn't converged well for 10 epochs. In the next step, I will use all dataset and train it for 100 epochs to try to increase the accuracy score of the model."
   ]
  }
 ],
 "metadata": {
  "environment": {
   "kernel": "python3",
   "name": "pytorch-gpu.2-0.m112",
   "type": "gcloud",
   "uri": "gcr.io/deeplearning-platform-release/pytorch-gpu.2-0:m112"
  },
  "kernelspec": {
   "display_name": "Python 3",
   "language": "python",
   "name": "python3"
  },
  "language_info": {
   "codemirror_mode": {
    "name": "ipython",
    "version": 3
   },
   "file_extension": ".py",
   "mimetype": "text/x-python",
   "name": "python",
   "nbconvert_exporter": "python",
   "pygments_lexer": "ipython3",
   "version": "3.10.12"
  }
 },
 "nbformat": 4,
 "nbformat_minor": 5
}
